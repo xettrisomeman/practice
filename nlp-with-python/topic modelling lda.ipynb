{
 "cells": [
  {
   "cell_type": "code",
   "execution_count": 54,
   "metadata": {},
   "outputs": [],
   "source": [
    "import pandas as pd\n",
    "\n",
    "import matplotlib.pyplot as plt"
   ]
  },
  {
   "cell_type": "code",
   "execution_count": 55,
   "metadata": {},
   "outputs": [],
   "source": [
    "df = pd.read_csv('OnceUponATimeInHollywood.csv')"
   ]
  },
  {
   "cell_type": "code",
   "execution_count": 56,
   "metadata": {},
   "outputs": [
    {
     "data": {
      "text/html": [
       "<div>\n",
       "<style scoped>\n",
       "    .dataframe tbody tr th:only-of-type {\n",
       "        vertical-align: middle;\n",
       "    }\n",
       "\n",
       "    .dataframe tbody tr th {\n",
       "        vertical-align: top;\n",
       "    }\n",
       "\n",
       "    .dataframe thead th {\n",
       "        text-align: right;\n",
       "    }\n",
       "</style>\n",
       "<table border=\"1\" class=\"dataframe\">\n",
       "  <thead>\n",
       "    <tr style=\"text-align: right;\">\n",
       "      <th></th>\n",
       "      <th>comment_id</th>\n",
       "      <th>comment_created_utc</th>\n",
       "      <th>comment_edited</th>\n",
       "      <th>comment_is_submitter</th>\n",
       "      <th>comment_score</th>\n",
       "      <th>comment_body</th>\n",
       "    </tr>\n",
       "  </thead>\n",
       "  <tbody>\n",
       "    <tr>\n",
       "      <th>0</th>\n",
       "      <td>euyw97v</td>\n",
       "      <td>1.564109e+09</td>\n",
       "      <td>False</td>\n",
       "      <td>False</td>\n",
       "      <td>3823</td>\n",
       "      <td>Brad Pitt tripping on acid pointing the finger...</td>\n",
       "    </tr>\n",
       "    <tr>\n",
       "      <th>1</th>\n",
       "      <td>euz6ywt</td>\n",
       "      <td>1.564114e+09</td>\n",
       "      <td>False</td>\n",
       "      <td>False</td>\n",
       "      <td>5204</td>\n",
       "      <td>“More than a brother but not quite a wife.”\\n\\...</td>\n",
       "    </tr>\n",
       "    <tr>\n",
       "      <th>2</th>\n",
       "      <td>euys7gs</td>\n",
       "      <td>1.564108e+09</td>\n",
       "      <td>1564115096.0</td>\n",
       "      <td>False</td>\n",
       "      <td>5152</td>\n",
       "      <td>That scene where DiCaprio tells himself he won...</td>\n",
       "    </tr>\n",
       "    <tr>\n",
       "      <th>3</th>\n",
       "      <td>euyrqkr</td>\n",
       "      <td>1.564107e+09</td>\n",
       "      <td>False</td>\n",
       "      <td>False</td>\n",
       "      <td>4869</td>\n",
       "      <td>That scene at the ranch when Cliff was going i...</td>\n",
       "    </tr>\n",
       "    <tr>\n",
       "      <th>4</th>\n",
       "      <td>euyril8</td>\n",
       "      <td>1.564107e+09</td>\n",
       "      <td>False</td>\n",
       "      <td>False</td>\n",
       "      <td>4462</td>\n",
       "      <td>Jesus fucking Christ Tarantino loves feet</td>\n",
       "    </tr>\n",
       "  </tbody>\n",
       "</table>\n",
       "</div>"
      ],
      "text/plain": [
       "  comment_id  comment_created_utc comment_edited  comment_is_submitter  \\\n",
       "0    euyw97v         1.564109e+09          False                 False   \n",
       "1    euz6ywt         1.564114e+09          False                 False   \n",
       "2    euys7gs         1.564108e+09   1564115096.0                 False   \n",
       "3    euyrqkr         1.564107e+09          False                 False   \n",
       "4    euyril8         1.564107e+09          False                 False   \n",
       "\n",
       "   comment_score                                       comment_body  \n",
       "0           3823  Brad Pitt tripping on acid pointing the finger...  \n",
       "1           5204  “More than a brother but not quite a wife.”\\n\\...  \n",
       "2           5152  That scene where DiCaprio tells himself he won...  \n",
       "3           4869  That scene at the ranch when Cliff was going i...  \n",
       "4           4462          Jesus fucking Christ Tarantino loves feet  "
      ]
     },
     "execution_count": 56,
     "metadata": {},
     "output_type": "execute_result"
    }
   ],
   "source": [
    "df.head()"
   ]
  },
  {
   "cell_type": "code",
   "execution_count": 57,
   "metadata": {},
   "outputs": [
    {
     "data": {
      "text/plain": [
       "(20427, 6)"
      ]
     },
     "execution_count": 57,
     "metadata": {},
     "output_type": "execute_result"
    }
   ],
   "source": [
    "df.shape"
   ]
  },
  {
   "cell_type": "code",
   "execution_count": 58,
   "metadata": {},
   "outputs": [],
   "source": [
    "#clean fot topic modelling\n",
    "\n",
    "df.dropna(axis=1 ,how='any', inplace=True)"
   ]
  },
  {
   "cell_type": "code",
   "execution_count": 59,
   "metadata": {},
   "outputs": [
    {
     "data": {
      "text/plain": [
       "(20427, 6)"
      ]
     },
     "execution_count": 59,
     "metadata": {},
     "output_type": "execute_result"
    }
   ],
   "source": [
    "df.shape"
   ]
  },
  {
   "cell_type": "code",
   "execution_count": 60,
   "metadata": {},
   "outputs": [
    {
     "data": {
      "text/plain": [
       "comment_id              0\n",
       "comment_created_utc     0\n",
       "comment_edited          0\n",
       "comment_is_submitter    0\n",
       "comment_score           0\n",
       "comment_body            0\n",
       "dtype: int64"
      ]
     },
     "execution_count": 60,
     "metadata": {},
     "output_type": "execute_result"
    }
   ],
   "source": [
    "df.isna().sum()"
   ]
  },
  {
   "cell_type": "code",
   "execution_count": 61,
   "metadata": {},
   "outputs": [],
   "source": [
    "columns = df.columns[:5]\n",
    "df.drop(columns , inplace=True ,axis=1)"
   ]
  },
  {
   "cell_type": "code",
   "execution_count": 62,
   "metadata": {},
   "outputs": [
    {
     "data": {
      "text/plain": [
       "[deleted]       310\n",
       "[removed]        58\n",
       "Lol r/cringe     13\n",
       "Lol               7\n",
       "Yes               6\n",
       "Name: comment_body, dtype: int64"
      ]
     },
     "execution_count": 62,
     "metadata": {},
     "output_type": "execute_result"
    }
   ],
   "source": [
    "df['comment_body'].value_counts()[:5]"
   ]
  },
  {
   "cell_type": "code",
   "execution_count": 64,
   "metadata": {},
   "outputs": [],
   "source": [
    "df = df[df['comment_body'] != '[deleted]']"
   ]
  },
  {
   "cell_type": "code",
   "execution_count": 73,
   "metadata": {},
   "outputs": [],
   "source": [
    "df = df[df['comment_body'] != '[removed]']"
   ]
  },
  {
   "cell_type": "code",
   "execution_count": 75,
   "metadata": {},
   "outputs": [
    {
     "data": {
      "text/html": [
       "<div>\n",
       "<style scoped>\n",
       "    .dataframe tbody tr th:only-of-type {\n",
       "        vertical-align: middle;\n",
       "    }\n",
       "\n",
       "    .dataframe tbody tr th {\n",
       "        vertical-align: top;\n",
       "    }\n",
       "\n",
       "    .dataframe thead th {\n",
       "        text-align: right;\n",
       "    }\n",
       "</style>\n",
       "<table border=\"1\" class=\"dataframe\">\n",
       "  <thead>\n",
       "    <tr style=\"text-align: right;\">\n",
       "      <th></th>\n",
       "      <th>comment_body</th>\n",
       "    </tr>\n",
       "  </thead>\n",
       "  <tbody>\n",
       "    <tr>\n",
       "      <th>0</th>\n",
       "      <td>Brad Pitt tripping on acid pointing the finger...</td>\n",
       "    </tr>\n",
       "    <tr>\n",
       "      <th>1</th>\n",
       "      <td>“More than a brother but not quite a wife.”\\n\\...</td>\n",
       "    </tr>\n",
       "    <tr>\n",
       "      <th>2</th>\n",
       "      <td>That scene where DiCaprio tells himself he won...</td>\n",
       "    </tr>\n",
       "    <tr>\n",
       "      <th>3</th>\n",
       "      <td>That scene at the ranch when Cliff was going i...</td>\n",
       "    </tr>\n",
       "    <tr>\n",
       "      <th>4</th>\n",
       "      <td>Jesus fucking Christ Tarantino loves feet</td>\n",
       "    </tr>\n",
       "  </tbody>\n",
       "</table>\n",
       "</div>"
      ],
      "text/plain": [
       "                                        comment_body\n",
       "0  Brad Pitt tripping on acid pointing the finger...\n",
       "1  “More than a brother but not quite a wife.”\\n\\...\n",
       "2  That scene where DiCaprio tells himself he won...\n",
       "3  That scene at the ranch when Cliff was going i...\n",
       "4          Jesus fucking Christ Tarantino loves feet"
      ]
     },
     "execution_count": 75,
     "metadata": {},
     "output_type": "execute_result"
    }
   ],
   "source": [
    "df.head()"
   ]
  },
  {
   "cell_type": "code",
   "execution_count": 76,
   "metadata": {},
   "outputs": [
    {
     "data": {
      "text/plain": [
       "20059"
      ]
     },
     "execution_count": 76,
     "metadata": {},
     "output_type": "execute_result"
    }
   ],
   "source": [
    "len(df)"
   ]
  },
  {
   "cell_type": "code",
   "execution_count": 77,
   "metadata": {},
   "outputs": [
    {
     "data": {
      "text/plain": [
       "(20059, 1)"
      ]
     },
     "execution_count": 77,
     "metadata": {},
     "output_type": "execute_result"
    }
   ],
   "source": [
    "df.shape"
   ]
  },
  {
   "cell_type": "code",
   "execution_count": 79,
   "metadata": {},
   "outputs": [
    {
     "data": {
      "text/plain": [
       "'“More than a brother but not quite a wife.”\\n\\nThat’s the take away line of the film for me.'"
      ]
     },
     "execution_count": 79,
     "metadata": {},
     "output_type": "execute_result"
    }
   ],
   "source": [
    "df['comment_body'][1]"
   ]
  },
  {
   "cell_type": "markdown",
   "metadata": {},
   "source": [
    "# first steps"
   ]
  },
  {
   "cell_type": "code",
   "execution_count": 81,
   "metadata": {},
   "outputs": [],
   "source": [
    "from sklearn.feature_extraction.text import CountVectorizer"
   ]
  },
  {
   "cell_type": "code",
   "execution_count": 82,
   "metadata": {},
   "outputs": [
    {
     "data": {
      "text/plain": [
       "<20059x10829 sparse matrix of type '<class 'numpy.int64'>'\n",
       "\twith 313617 stored elements in Compressed Sparse Row format>"
      ]
     },
     "execution_count": 82,
     "metadata": {},
     "output_type": "execute_result"
    }
   ],
   "source": [
    "cv = CountVectorizer(max_df=0.95 , min_df=2 , stop_words='english')\n",
    "\n",
    "dtm = cv.fit_transform(df['comment_body'])\n",
    "dtm"
   ]
  },
  {
   "cell_type": "code",
   "execution_count": 84,
   "metadata": {},
   "outputs": [],
   "source": [
    "from sklearn.decomposition import LatentDirichletAllocation"
   ]
  },
  {
   "cell_type": "code",
   "execution_count": 85,
   "metadata": {},
   "outputs": [
    {
     "data": {
      "text/plain": [
       "LatentDirichletAllocation(n_components=7, random_state=42)"
      ]
     },
     "execution_count": 85,
     "metadata": {},
     "output_type": "execute_result"
    }
   ],
   "source": [
    "LDA = LatentDirichletAllocation(n_components=7 , random_state=42)\n",
    "LDA.fit(dtm)"
   ]
  },
  {
   "cell_type": "code",
   "execution_count": 92,
   "metadata": {},
   "outputs": [
    {
     "data": {
      "text/plain": [
       "{'batch_size': 128,\n",
       " 'doc_topic_prior': None,\n",
       " 'evaluate_every': -1,\n",
       " 'learning_decay': 0.7,\n",
       " 'learning_method': 'batch',\n",
       " 'learning_offset': 10.0,\n",
       " 'max_doc_update_iter': 100,\n",
       " 'max_iter': 10,\n",
       " 'mean_change_tol': 0.001,\n",
       " 'n_components': 7,\n",
       " 'n_jobs': None,\n",
       " 'perp_tol': 0.1,\n",
       " 'random_state': 42,\n",
       " 'topic_word_prior': None,\n",
       " 'total_samples': 1000000.0,\n",
       " 'verbose': 0}"
      ]
     },
     "execution_count": 92,
     "metadata": {},
     "output_type": "execute_result"
    }
   ],
   "source": [
    "LDA.get_params()"
   ]
  },
  {
   "cell_type": "markdown",
   "metadata": {},
   "source": [
    "# Three steps away"
   ]
  },
  {
   "cell_type": "markdown",
   "metadata": {},
   "source": [
    "## Grab the vocab"
   ]
  },
  {
   "cell_type": "code",
   "execution_count": 93,
   "metadata": {},
   "outputs": [
    {
     "data": {
      "text/plain": [
       "10829"
      ]
     },
     "execution_count": 93,
     "metadata": {},
     "output_type": "execute_result"
    }
   ],
   "source": [
    "len(cv.get_feature_names())"
   ]
  },
  {
   "cell_type": "code",
   "execution_count": 94,
   "metadata": {},
   "outputs": [
    {
     "data": {
      "text/plain": [
       "'anderson'"
      ]
     },
     "execution_count": 94,
     "metadata": {},
     "output_type": "execute_result"
    }
   ],
   "source": [
    "cv.get_feature_names()[500]"
   ]
  },
  {
   "cell_type": "code",
   "execution_count": 95,
   "metadata": {},
   "outputs": [],
   "source": [
    "import random"
   ]
  },
  {
   "cell_type": "code",
   "execution_count": 96,
   "metadata": {},
   "outputs": [
    {
     "name": "stdout",
     "output_type": "stream",
     "text": [
      "typical\n",
      "finance\n",
      "ensuring\n",
      "magnificent\n",
      "tatantino\n",
      "delete\n",
      "assumption\n",
      "june\n",
      "unbelievably\n",
      "wp\n"
     ]
    }
   ],
   "source": [
    "for i in range(10):\n",
    "    random_word_id = random.randint(0,10829)\n",
    "    print(cv.get_feature_names()[random_word_id])"
   ]
  },
  {
   "cell_type": "code",
   "execution_count": 98,
   "metadata": {},
   "outputs": [
    {
     "data": {
      "text/plain": [
       "array([[1.51432316, 2.14278136, 0.14289984, ..., 0.14317044, 0.14285823,\n",
       "        0.14285716],\n",
       "       [0.14285723, 0.14285726, 0.14285717, ..., 1.71828658, 0.14527273,\n",
       "        4.14296475],\n",
       "       [0.14289799, 0.14293259, 1.28175656, ..., 0.14340975, 0.1428584 ,\n",
       "        0.14390393],\n",
       "       ...,\n",
       "       [0.14316052, 0.14285721, 0.1593196 , ..., 2.56564692, 0.1428586 ,\n",
       "        0.14285717],\n",
       "       [0.15479275, 0.14285717, 0.14285715, ..., 0.14304933, 2.13547861,\n",
       "        1.14170266],\n",
       "       [0.14302619, 0.14285723, 2.98745251, ..., 0.14351676, 0.14781509,\n",
       "        0.14285717]])"
      ]
     },
     "execution_count": 98,
     "metadata": {},
     "output_type": "execute_result"
    }
   ],
   "source": [
    "LDA.components_"
   ]
  },
  {
   "cell_type": "code",
   "execution_count": 101,
   "metadata": {},
   "outputs": [
    {
     "name": "stdout",
     "output_type": "stream",
     "text": [
      " The top 15 words for topic 1\n",
      "['really', 'good', 'pulp', 'watch', 'fiction', 'basterds', 'films', 'think', 'just', 'like', 'movies', 'time', 'tarantino', 'movie', 'film']\n",
      "\n",
      "\n",
      " The top 15 words for topic 2\n",
      "['real', 'car', 'com', 'dog', 'cigarette', 'https', 'got', 'going', 'girl', 'just', 'acid', 'did', 'scene', 'cliff', 'like']\n",
      "\n",
      "\n",
      " The top 15 words for topic 3\n",
      "['time', 'flashback', 'like', 'character', 'think', 'movie', 'brad', 'sharon', 'pitt', 'scene', 'tate', 'rick', 'lee', 'bruce', 'cliff']\n",
      "\n",
      "\n",
      " The top 15 words for topic 4\n",
      "['like', 'family', 'did', 'real', 'don', 'just', 'murders', 'think', 'sharon', 'didn', 'movie', 'people', 'tate', 'know', 'manson']\n",
      "\n",
      "\n",
      " The top 15 words for topic 5\n",
      "['actor', 'character', 'think', 'like', 'hollywood', 'great', 'really', 'best', 'scene', 'film', 'tarantino', 'dalton', 'leo', 'movie', 'rick']\n",
      "\n",
      "\n",
      " The top 15 words for topic 6\n",
      "['scenes', 'think', 'didn', 'movies', 'feel', 'plot', 'story', 'time', 'felt', 'really', 'film', 'tarantino', 'just', 'like', 'movie']\n",
      "\n",
      "\n",
      " The top 15 words for topic 7\n",
      "['did', 'oh', 'fuck', 'guy', 'yeah', 'movie', 'said', 'fucking', 'like', 'shit', 'house', 'scene', 'lol', 'manson', 'just']\n",
      "\n",
      "\n"
     ]
    }
   ],
   "source": [
    "for index , topic in enumerate(LDA.components_):\n",
    "    print(f' The top 15 words for topic {index+1}')\n",
    "    print([cv.get_feature_names()[i] for i in topic.argsort()[-15:]])\n",
    "    print('\\n')"
   ]
  },
  {
   "cell_type": "code",
   "execution_count": 123,
   "metadata": {},
   "outputs": [],
   "source": [
    "topic_results = LDA.transform(dtm)"
   ]
  },
  {
   "cell_type": "code",
   "execution_count": 124,
   "metadata": {},
   "outputs": [
    {
     "data": {
      "text/plain": [
       "(20059, 7)"
      ]
     },
     "execution_count": 124,
     "metadata": {},
     "output_type": "execute_result"
    }
   ],
   "source": [
    "topic_results.shape"
   ]
  },
  {
   "cell_type": "code",
   "execution_count": 125,
   "metadata": {},
   "outputs": [
    {
     "data": {
      "text/plain": [
       "array([0.39828963, 0.55042207, 0.01029147, 0.01023021, 0.01027906,\n",
       "       0.01025818, 0.01022938])"
      ]
     },
     "execution_count": 125,
     "metadata": {},
     "output_type": "execute_result"
    }
   ],
   "source": [
    "topic_results[0]"
   ]
  },
  {
   "cell_type": "code",
   "execution_count": 126,
   "metadata": {},
   "outputs": [
    {
     "data": {
      "text/html": [
       "<div>\n",
       "<style scoped>\n",
       "    .dataframe tbody tr th:only-of-type {\n",
       "        vertical-align: middle;\n",
       "    }\n",
       "\n",
       "    .dataframe tbody tr th {\n",
       "        vertical-align: top;\n",
       "    }\n",
       "\n",
       "    .dataframe thead th {\n",
       "        text-align: right;\n",
       "    }\n",
       "</style>\n",
       "<table border=\"1\" class=\"dataframe\">\n",
       "  <thead>\n",
       "    <tr style=\"text-align: right;\">\n",
       "      <th></th>\n",
       "      <th>comment_body</th>\n",
       "    </tr>\n",
       "  </thead>\n",
       "  <tbody>\n",
       "    <tr>\n",
       "      <th>0</th>\n",
       "      <td>Brad Pitt tripping on acid pointing the finger...</td>\n",
       "    </tr>\n",
       "    <tr>\n",
       "      <th>1</th>\n",
       "      <td>“More than a brother but not quite a wife.”\\n\\...</td>\n",
       "    </tr>\n",
       "    <tr>\n",
       "      <th>2</th>\n",
       "      <td>That scene where DiCaprio tells himself he won...</td>\n",
       "    </tr>\n",
       "    <tr>\n",
       "      <th>3</th>\n",
       "      <td>That scene at the ranch when Cliff was going i...</td>\n",
       "    </tr>\n",
       "    <tr>\n",
       "      <th>4</th>\n",
       "      <td>Jesus fucking Christ Tarantino loves feet</td>\n",
       "    </tr>\n",
       "  </tbody>\n",
       "</table>\n",
       "</div>"
      ],
      "text/plain": [
       "                                        comment_body\n",
       "0  Brad Pitt tripping on acid pointing the finger...\n",
       "1  “More than a brother but not quite a wife.”\\n\\...\n",
       "2  That scene where DiCaprio tells himself he won...\n",
       "3  That scene at the ranch when Cliff was going i...\n",
       "4          Jesus fucking Christ Tarantino loves feet"
      ]
     },
     "execution_count": 126,
     "metadata": {},
     "output_type": "execute_result"
    }
   ],
   "source": [
    "df.head()"
   ]
  },
  {
   "cell_type": "code",
   "execution_count": 127,
   "metadata": {},
   "outputs": [
    {
     "data": {
      "text/plain": [
       "array([1, 4, 4, ..., 1, 1, 1], dtype=int64)"
      ]
     },
     "execution_count": 127,
     "metadata": {},
     "output_type": "execute_result"
    }
   ],
   "source": [
    "topic_results.argmax(axis=1)"
   ]
  },
  {
   "cell_type": "code",
   "execution_count": 131,
   "metadata": {},
   "outputs": [
    {
     "name": "stderr",
     "output_type": "stream",
     "text": [
      "<ipython-input-131-c8c1dd8ded14>:1: SettingWithCopyWarning: \n",
      "A value is trying to be set on a copy of a slice from a DataFrame.\n",
      "Try using .loc[row_indexer,col_indexer] = value instead\n",
      "\n",
      "See the caveats in the documentation: https://pandas.pydata.org/pandas-docs/stable/user_guide/indexing.html#returning-a-view-versus-a-copy\n",
      "  df['Topic'] = topic_results.argmax(axis=1)\n"
     ]
    }
   ],
   "source": [
    "df['Topic'] = topic_results.argmax(axis=1)"
   ]
  },
  {
   "cell_type": "code",
   "execution_count": 132,
   "metadata": {},
   "outputs": [
    {
     "data": {
      "text/html": [
       "<div>\n",
       "<style scoped>\n",
       "    .dataframe tbody tr th:only-of-type {\n",
       "        vertical-align: middle;\n",
       "    }\n",
       "\n",
       "    .dataframe tbody tr th {\n",
       "        vertical-align: top;\n",
       "    }\n",
       "\n",
       "    .dataframe thead th {\n",
       "        text-align: right;\n",
       "    }\n",
       "</style>\n",
       "<table border=\"1\" class=\"dataframe\">\n",
       "  <thead>\n",
       "    <tr style=\"text-align: right;\">\n",
       "      <th></th>\n",
       "      <th>comment_body</th>\n",
       "      <th>Topic</th>\n",
       "    </tr>\n",
       "  </thead>\n",
       "  <tbody>\n",
       "    <tr>\n",
       "      <th>0</th>\n",
       "      <td>Brad Pitt tripping on acid pointing the finger...</td>\n",
       "      <td>1</td>\n",
       "    </tr>\n",
       "    <tr>\n",
       "      <th>1</th>\n",
       "      <td>“More than a brother but not quite a wife.”\\n\\...</td>\n",
       "      <td>4</td>\n",
       "    </tr>\n",
       "    <tr>\n",
       "      <th>2</th>\n",
       "      <td>That scene where DiCaprio tells himself he won...</td>\n",
       "      <td>4</td>\n",
       "    </tr>\n",
       "    <tr>\n",
       "      <th>3</th>\n",
       "      <td>That scene at the ranch when Cliff was going i...</td>\n",
       "      <td>6</td>\n",
       "    </tr>\n",
       "    <tr>\n",
       "      <th>4</th>\n",
       "      <td>Jesus fucking Christ Tarantino loves feet</td>\n",
       "      <td>6</td>\n",
       "    </tr>\n",
       "    <tr>\n",
       "      <th>...</th>\n",
       "      <td>...</td>\n",
       "      <td>...</td>\n",
       "    </tr>\n",
       "    <tr>\n",
       "      <th>20419</th>\n",
       "      <td>I'm an electrical engineer dogg, if I'm retard...</td>\n",
       "      <td>6</td>\n",
       "    </tr>\n",
       "    <tr>\n",
       "      <th>20420</th>\n",
       "      <td>Lol r/cringe</td>\n",
       "      <td>1</td>\n",
       "    </tr>\n",
       "    <tr>\n",
       "      <th>20422</th>\n",
       "      <td>Lol r/cringe</td>\n",
       "      <td>1</td>\n",
       "    </tr>\n",
       "    <tr>\n",
       "      <th>20424</th>\n",
       "      <td>Lol r/cringe</td>\n",
       "      <td>1</td>\n",
       "    </tr>\n",
       "    <tr>\n",
       "      <th>20426</th>\n",
       "      <td>https://www.reddit.com/r/movies/comments/chmkn...</td>\n",
       "      <td>1</td>\n",
       "    </tr>\n",
       "  </tbody>\n",
       "</table>\n",
       "<p>20059 rows × 2 columns</p>\n",
       "</div>"
      ],
      "text/plain": [
       "                                            comment_body  Topic\n",
       "0      Brad Pitt tripping on acid pointing the finger...      1\n",
       "1      “More than a brother but not quite a wife.”\\n\\...      4\n",
       "2      That scene where DiCaprio tells himself he won...      4\n",
       "3      That scene at the ranch when Cliff was going i...      6\n",
       "4              Jesus fucking Christ Tarantino loves feet      6\n",
       "...                                                  ...    ...\n",
       "20419  I'm an electrical engineer dogg, if I'm retard...      6\n",
       "20420                                       Lol r/cringe      1\n",
       "20422                                       Lol r/cringe      1\n",
       "20424                                       Lol r/cringe      1\n",
       "20426  https://www.reddit.com/r/movies/comments/chmkn...      1\n",
       "\n",
       "[20059 rows x 2 columns]"
      ]
     },
     "execution_count": 132,
     "metadata": {},
     "output_type": "execute_result"
    }
   ],
   "source": [
    "df"
   ]
  },
  {
   "cell_type": "code",
   "execution_count": null,
   "metadata": {},
   "outputs": [],
   "source": []
  },
  {
   "cell_type": "code",
   "execution_count": null,
   "metadata": {},
   "outputs": [],
   "source": []
  },
  {
   "cell_type": "code",
   "execution_count": null,
   "metadata": {},
   "outputs": [],
   "source": []
  }
 ],
 "metadata": {
  "kernelspec": {
   "display_name": "Python 3",
   "language": "python",
   "name": "python3"
  },
  "language_info": {
   "codemirror_mode": {
    "name": "ipython",
    "version": 3
   },
   "file_extension": ".py",
   "mimetype": "text/x-python",
   "name": "python",
   "nbconvert_exporter": "python",
   "pygments_lexer": "ipython3",
   "version": "3.8.3"
  }
 },
 "nbformat": 4,
 "nbformat_minor": 4
}
