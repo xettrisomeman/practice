{
 "cells": [
  {
   "cell_type": "code",
   "execution_count": 5,
   "metadata": {},
   "outputs": [],
   "source": [
    "import numpy as np\n",
    "from sklearn.datasets import fetch_20newsgroups\n",
    "from sklearn.feature_extraction.text import TfidfVectorizer\n",
    "\n",
    "from sklearn.decomposition import NMF"
   ]
  },
  {
   "cell_type": "code",
   "execution_count": 7,
   "metadata": {},
   "outputs": [],
   "source": [
    "data = fetch_20newsgroups(remove=('headers' ,'footers' , 'quotes')).data"
   ]
  },
  {
   "cell_type": "code",
   "execution_count": 10,
   "metadata": {},
   "outputs": [],
   "source": [
    "vectorizer = TfidfVectorizer(max_features=2000, min_df=10 , stop_words='english')"
   ]
  },
  {
   "cell_type": "code",
   "execution_count": 11,
   "metadata": {},
   "outputs": [],
   "source": [
    "X = vectorizer.fit_transform(data)"
   ]
  },
  {
   "cell_type": "code",
   "execution_count": 12,
   "metadata": {},
   "outputs": [],
   "source": [
    "idx_to_word = np.array(vectorizer.get_feature_names())"
   ]
  },
  {
   "cell_type": "code",
   "execution_count": 14,
   "metadata": {},
   "outputs": [],
   "source": [
    "#apply nmf\n",
    "\n",
    "nmf = NMF(n_components=20  , solver='mu')"
   ]
  },
  {
   "cell_type": "code",
   "execution_count": 15,
   "metadata": {},
   "outputs": [],
   "source": [
    "W = nmf.fit_transform(X)"
   ]
  },
  {
   "cell_type": "code",
   "execution_count": 16,
   "metadata": {},
   "outputs": [],
   "source": [
    "H = nmf.components_"
   ]
  },
  {
   "cell_type": "code",
   "execution_count": 20,
   "metadata": {},
   "outputs": [
    {
     "name": "stdout",
     "output_type": "stream",
     "text": [
      "Topic 1 : make,people,said,way,say,really,right,did,good,time\n",
      "Topic 2 : appreciated,information,email,help,info,looking,hi,advance,mail,thanks\n",
      "Topic 3 : lord,church,christians,christian,believe,faith,christ,bible,jesus,god\n",
      "Topic 4 : nsa,public,algorithm,escrow,government,keys,clipper,encryption,chip,key\n",
      "Topic 5 : problem,cd,floppy,controller,ide,hard,drives,disk,scsi,drive\n",
      "Topic 6 : 15,20,price,condition,offer,shipping,10,new,sale,00\n",
      "Topic 7 : ms,using,problem,version,running,program,files,dos,file,windows\n",
      "Topic 8 : player,win,hockey,play,season,players,year,games,team,game\n",
      "Topic 9 : pub,cc,ftp,university,cs,soon,banks,gordon,pitt,edu\n",
      "Topic 10 : price,oil,speed,good,miles,dealer,engine,bike,cars,car\n",
      "Topic 11 : memory,color,driver,bus,vga,cards,drivers,monitor,video,card\n",
      "Topic 12 : ftp,doesn,help,work,new,program,mean,anybody,know,does\n",
      "Topic 13 : tell,ll,bike,wanted,oh,right,wondering,got,ve,just\n",
      "Topic 14 : rights,laws,crime,think,guns,don,law,government,gun,people\n",
      "Topic 15 : sure,make,sell,sound,new,look,just,looks,sounds,like\n",
      "Topic 16 : email,phone,sun,address,bob,internet,dave,list,article,com\n",
      "Topic 17 : set,using,display,server,widget,manager,application,motif,use,window\n",
      "Topic 18 : sorry,try,read,need,problem,ve,want,let,know,don\n",
      "Topic 19 : land,state,war,peace,arabs,jewish,arab,jews,israeli,israel\n",
      "Topic 20 : original,say,really,jesus,try,bike,did,lot,bit,think\n"
     ]
    }
   ],
   "source": [
    "for i , topic in enumerate(H):\n",
    "    topic = ','.join([str(x) for x in idx_to_word[topic.argsort()[-10:]]])\n",
    "    print(f'Topic {i+1} : {topic}')"
   ]
  },
  {
   "cell_type": "code",
   "execution_count": null,
   "metadata": {},
   "outputs": [],
   "source": []
  },
  {
   "cell_type": "code",
   "execution_count": null,
   "metadata": {},
   "outputs": [],
   "source": []
  }
 ],
 "metadata": {
  "kernelspec": {
   "display_name": "Python 3",
   "language": "python",
   "name": "python3"
  },
  "language_info": {
   "codemirror_mode": {
    "name": "ipython",
    "version": 3
   },
   "file_extension": ".py",
   "mimetype": "text/x-python",
   "name": "python",
   "nbconvert_exporter": "python",
   "pygments_lexer": "ipython3",
   "version": "3.8.3"
  }
 },
 "nbformat": 4,
 "nbformat_minor": 4
}
